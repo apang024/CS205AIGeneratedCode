{
 "cells": [
  {
   "cell_type": "code",
   "execution_count": 139,
   "metadata": {},
   "outputs": [],
   "source": [
    "# Basic Setup\n",
    "import pandas as pd\n",
    "from matplotlib import pyplot as plt\n",
    "import sklearn\n",
    "import sklearn.datasets\n",
    "from sklearn.model_selection import train_test_split\n",
    "from sklearn.ensemble import RandomForestClassifier"
   ]
  },
  {
   "cell_type": "markdown",
   "metadata": {},
   "source": [
    "## 1. Gather dataset and preprocess (Ashley)"
   ]
  },
  {
   "cell_type": "code",
   "execution_count": 140,
   "metadata": {},
   "outputs": [
    {
     "data": {
      "text/html": [
       "<div>\n",
       "<style scoped>\n",
       "    .dataframe tbody tr th:only-of-type {\n",
       "        vertical-align: middle;\n",
       "    }\n",
       "\n",
       "    .dataframe tbody tr th {\n",
       "        vertical-align: top;\n",
       "    }\n",
       "\n",
       "    .dataframe thead th {\n",
       "        text-align: right;\n",
       "    }\n",
       "</style>\n",
       "<table border=\"1\" class=\"dataframe\">\n",
       "  <thead>\n",
       "    <tr style=\"text-align: right;\">\n",
       "      <th></th>\n",
       "      <th>Unnamed: 0</th>\n",
       "      <th>Answer</th>\n",
       "      <th>num_of_lines</th>\n",
       "      <th>code_length</th>\n",
       "      <th>comments</th>\n",
       "      <th>cyclomatic_complexity</th>\n",
       "      <th>num_of_indents</th>\n",
       "      <th>loop_count</th>\n",
       "      <th>line_length</th>\n",
       "      <th>identifiers</th>\n",
       "      <th>readability</th>\n",
       "    </tr>\n",
       "  </thead>\n",
       "  <tbody>\n",
       "    <tr>\n",
       "      <th>0</th>\n",
       "      <td>0</td>\n",
       "      <td>class Solution {\\n public:\\n  vector&lt;int&gt; twoS...</td>\n",
       "      <td>8</td>\n",
       "      <td>347</td>\n",
       "      <td>0</td>\n",
       "      <td>1</td>\n",
       "      <td>4</td>\n",
       "      <td>2</td>\n",
       "      <td>43.375000</td>\n",
       "      <td>8</td>\n",
       "      <td>4.996250</td>\n",
       "    </tr>\n",
       "    <tr>\n",
       "      <th>1</th>\n",
       "      <td>1</td>\n",
       "      <td>class Solution {\\n public:\\n  ListNode* addTwo...</td>\n",
       "      <td>12</td>\n",
       "      <td>479</td>\n",
       "      <td>0</td>\n",
       "      <td>3</td>\n",
       "      <td>5</td>\n",
       "      <td>3</td>\n",
       "      <td>39.916667</td>\n",
       "      <td>2</td>\n",
       "      <td>5.727500</td>\n",
       "    </tr>\n",
       "    <tr>\n",
       "      <th>2</th>\n",
       "      <td>2</td>\n",
       "      <td>class Solution {\\n public:\\n  int lengthOfLong...</td>\n",
       "      <td>9</td>\n",
       "      <td>303</td>\n",
       "      <td>0</td>\n",
       "      <td>2</td>\n",
       "      <td>3</td>\n",
       "      <td>2</td>\n",
       "      <td>33.666667</td>\n",
       "      <td>6</td>\n",
       "      <td>6.070000</td>\n",
       "    </tr>\n",
       "    <tr>\n",
       "      <th>3</th>\n",
       "      <td>3</td>\n",
       "      <td>class Solution {\\n public:\\n  double findMedia...</td>\n",
       "      <td>16</td>\n",
       "      <td>1046</td>\n",
       "      <td>0</td>\n",
       "      <td>4</td>\n",
       "      <td>3</td>\n",
       "      <td>4</td>\n",
       "      <td>65.375000</td>\n",
       "      <td>22</td>\n",
       "      <td>1.496250</td>\n",
       "    </tr>\n",
       "    <tr>\n",
       "      <th>4</th>\n",
       "      <td>4</td>\n",
       "      <td>class Solution {\\n public:\\n  string longestPa...</td>\n",
       "      <td>14</td>\n",
       "      <td>916</td>\n",
       "      <td>3</td>\n",
       "      <td>4</td>\n",
       "      <td>9</td>\n",
       "      <td>7</td>\n",
       "      <td>65.428571</td>\n",
       "      <td>14</td>\n",
       "      <td>2.051429</td>\n",
       "    </tr>\n",
       "  </tbody>\n",
       "</table>\n",
       "</div>"
      ],
      "text/plain": [
       "   Unnamed: 0                                             Answer  \\\n",
       "0           0  class Solution {\\n public:\\n  vector<int> twoS...   \n",
       "1           1  class Solution {\\n public:\\n  ListNode* addTwo...   \n",
       "2           2  class Solution {\\n public:\\n  int lengthOfLong...   \n",
       "3           3  class Solution {\\n public:\\n  double findMedia...   \n",
       "4           4  class Solution {\\n public:\\n  string longestPa...   \n",
       "\n",
       "   num_of_lines  code_length  comments  cyclomatic_complexity  num_of_indents  \\\n",
       "0             8          347         0                      1               4   \n",
       "1            12          479         0                      3               5   \n",
       "2             9          303         0                      2               3   \n",
       "3            16         1046         0                      4               3   \n",
       "4            14          916         3                      4               9   \n",
       "\n",
       "   loop_count  line_length  identifiers  readability  \n",
       "0           2    43.375000            8     4.996250  \n",
       "1           3    39.916667            2     5.727500  \n",
       "2           2    33.666667            6     6.070000  \n",
       "3           4    65.375000           22     1.496250  \n",
       "4           7    65.428571           14     2.051429  "
      ]
     },
     "execution_count": 140,
     "metadata": {},
     "output_type": "execute_result"
    }
   ],
   "source": [
    "data = pd.read_csv('data_cpp.csv')\n",
    "data.head()"
   ]
  },
  {
   "cell_type": "code",
   "execution_count": 141,
   "metadata": {},
   "outputs": [],
   "source": [
    "import re\n",
    "prompt = \"{ Please fill in this function }\"\n",
    "\n",
    "def emptyOneFunctionBody(code, firstBrace):\n",
    "    # Find corresponding }\n",
    "    numBraces = 1\n",
    "    i = firstBrace + 1\n",
    "\n",
    "    # print(\"------------------------------------------\\n Code before Mod:\\n\" + code)\n",
    "    # print(i)\n",
    "    # print(\"Character found prior to firstBrace: $\" + code[i-1] +  code[i] + code[i+1] + \"$\")\n",
    "\n",
    "    while i < len(code) and numBraces > 0:\n",
    "        if code[i] == '{':\n",
    "            numBraces += 1\n",
    "        elif code[i] == '}':\n",
    "            numBraces -= 1\n",
    "        i += 1\n",
    "    \n",
    "    # print(\"Character found after lastBrace: $\" + code[i-1] +  code[i]+ \"$\\n------------------------------------------\\n\")\n",
    "    return code[:firstBrace] + prompt + code[i:], firstBrace + len(prompt)\n",
    "    \n",
    "\n",
    "def emptyAllFunctionBodies(code, start):\n",
    "    # Find first { after first )\n",
    "    start = max(code.find(')'), start)\n",
    "    if start < 0:\n",
    "        return code\n",
    "    else:\n",
    "        openBraceLocation = code.find('{', start)\n",
    "        if openBraceLocation == -1:\n",
    "            return code\n",
    "        else:\n",
    "            newCode, newStart = emptyOneFunctionBody(code, openBraceLocation)\n",
    "            return emptyAllFunctionBodies(newCode, newStart)\n",
    "    "
   ]
  },
  {
   "cell_type": "code",
   "execution_count": 142,
   "metadata": {},
   "outputs": [
    {
     "name": "stdout",
     "output_type": "stream",
     "text": [
      "<class 'str'>\n",
      "class Solution {\n",
      " public:\n",
      "  vector<vector<string>> solveNQueens(int n) {\n",
      "    vector<vector<string>> ans;\n",
      "    dfs(n, 0, vector<bool>(n), vector<bool>(2 * n - 1), vector<bool>(2 * n - 1),\n",
      "        vector<string>(n, string(n, '.')), ans);\n",
      "    return ans;\n",
      "  }\n",
      "\n",
      " private:\n",
      "  void dfs(int n, int i, vector<bool>&& cols, vector<bool>&& diag1,\n",
      "           vector<bool>&& diag2, vector<string>&& board,\n",
      "           vector<vector<string>>& ans) {\n",
      "    if (i == n) {\n",
      "      ans.push_back(board);\n",
      "      return;\n",
      "    }\n",
      "\n",
      "    for (int j = 0; j < n; ++j) {\n",
      "      if (cols[j] || diag1[i + j] || diag2[j - i + n - 1])\n",
      "        continue;\n",
      "      board[i][j] = 'Q';\n",
      "      cols[j] = diag1[i + j] = diag2[j - i + n - 1] = true;\n",
      "      dfs(n, i + 1, move(cols), move(diag1), move(diag2), move(board), ans);\n",
      "      cols[j] = diag1[i + j] = diag2[j - i + n - 1] = false;\n",
      "      board[i][j] = '.';\n",
      "    }\n",
      "  }\n",
      "};\n",
      "\n",
      "class Solution {\n",
      " public:\n",
      "  vector<vector<string>> solveNQueens(int n) { Please fill in this function }\n",
      "\n",
      " private:\n",
      "  void dfs(int n, int i, vector<bool>&& cols, vector<bool>&& diag1,\n",
      "           vector<bool>&& diag2, vector<string>&& board,\n",
      "           vector<vector<string>>& ans) { Please fill in this function }\n",
      "};\n"
     ]
    }
   ],
   "source": [
    "# Test function on one coding sample\n",
    "code_sample = data['Answer'][50]\n",
    "print(type(code_sample))\n",
    "print(code_sample + \"\\n\")\n",
    "code_sample = emptyAllFunctionBodies(code_sample, 0)\n",
    "print(code_sample)"
   ]
  },
  {
   "cell_type": "code",
   "execution_count": 143,
   "metadata": {},
   "outputs": [
    {
     "name": "stdout",
     "output_type": "stream",
     "text": [
      "class Solution {\n",
      " public:\n",
      "  vector<int> twoSum(vector<int>& nums, int target) {\n",
      "    unordered_map<int, int> numToIndex;\n",
      "\n",
      "    for (int i = 0; i < nums.size(); ++i) {\n",
      "      if (const auto it = numToIndex.find(target - nums[i]);\n",
      "          it != cend(numToIndex))\n",
      "        return {it->second, i};\n",
      "      numToIndex[nums[i]] = i;\n",
      "    }\n",
      "\n",
      "    throw;\n",
      "  }\n",
      "};\n",
      "-------------------------------------------------\n",
      "class Solution {\n",
      " public:\n",
      "  vector<int> twoSum(vector<int>& nums, int target) { Please fill in this function }\n",
      "};\n"
     ]
    }
   ],
   "source": [
    "# Duplicate the column Answer\n",
    "data['Answer_empty'] = data['Answer']\n",
    "\n",
    "for i in range(17):\n",
    "    data.loc[i, 'Answer_empty'] = emptyAllFunctionBodies(data.loc[i, 'Answer'], 0)\n",
    "\n",
    "print(data['Answer'][0])\n",
    "print(\"-------------------------------------------------\")\n",
    "print(data['Answer_empty'][0])\n",
    "\n",
    "\n"
   ]
  },
  {
   "cell_type": "markdown",
   "metadata": {},
   "source": [
    "## 2. Take the code and remove functions and ask Copilot to finish the code"
   ]
  },
  {
   "cell_type": "markdown",
   "metadata": {},
   "source": [
    "## 3. Label original code as human generated, label Copilot code as AI generated"
   ]
  },
  {
   "cell_type": "markdown",
   "metadata": {},
   "source": [
    "## 4. Separate train, test, validation sets as 75%, 15%, 10% respectively"
   ]
  },
  {
   "cell_type": "markdown",
   "metadata": {},
   "source": [
    "## 5. Tokenize all code (Word2Vec) and create features for our ML model to use"
   ]
  },
  {
   "cell_type": "markdown",
   "metadata": {},
   "source": [
    "## 6. Run ML models (ex: Random Forest (RF), XGBoost, and Support Vector Machine (SVM) )"
   ]
  },
  {
   "cell_type": "markdown",
   "metadata": {},
   "source": [
    "## 7. Gather precision, recall, accuracy, and f1-score for each model"
   ]
  }
 ],
 "metadata": {
  "kernelspec": {
   "display_name": "Python 3",
   "language": "python",
   "name": "python3"
  },
  "language_info": {
   "codemirror_mode": {
    "name": "ipython",
    "version": 3
   },
   "file_extension": ".py",
   "mimetype": "text/x-python",
   "name": "python",
   "nbconvert_exporter": "python",
   "pygments_lexer": "ipython3",
   "version": "3.12.0"
  }
 },
 "nbformat": 4,
 "nbformat_minor": 2
}
