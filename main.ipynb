{
 "cells": [
  {
   "cell_type": "code",
   "execution_count": 93,
   "metadata": {},
   "outputs": [],
   "source": [
    "# Basic Setup\n",
    "import pandas as pd\n",
    "from matplotlib import pyplot as plt\n",
    "import sklearn\n",
    "import sklearn.datasets\n",
    "from sklearn.model_selection import train_test_split, GridSearchCV\n",
    "from sklearn.ensemble import RandomForestClassifier"
   ]
  },
  {
   "cell_type": "markdown",
   "metadata": {},
   "source": [
    "## 1. Gather dataset and preprocess (Ashley)"
   ]
  },
  {
   "cell_type": "code",
   "execution_count": 94,
   "metadata": {},
   "outputs": [
    {
     "data": {
      "text/html": [
       "<div>\n",
       "<style scoped>\n",
       "    .dataframe tbody tr th:only-of-type {\n",
       "        vertical-align: middle;\n",
       "    }\n",
       "\n",
       "    .dataframe tbody tr th {\n",
       "        vertical-align: top;\n",
       "    }\n",
       "\n",
       "    .dataframe thead th {\n",
       "        text-align: right;\n",
       "    }\n",
       "</style>\n",
       "<table border=\"1\" class=\"dataframe\">\n",
       "  <thead>\n",
       "    <tr style=\"text-align: right;\">\n",
       "      <th></th>\n",
       "      <th>Unnamed: 0</th>\n",
       "      <th>Answer</th>\n",
       "      <th>num_of_lines</th>\n",
       "      <th>code_length</th>\n",
       "      <th>comments</th>\n",
       "      <th>cyclomatic_complexity</th>\n",
       "      <th>num_of_indents</th>\n",
       "      <th>loop_count</th>\n",
       "      <th>line_length</th>\n",
       "      <th>identifiers</th>\n",
       "      <th>readability</th>\n",
       "    </tr>\n",
       "  </thead>\n",
       "  <tbody>\n",
       "    <tr>\n",
       "      <th>0</th>\n",
       "      <td>0</td>\n",
       "      <td>class Solution {\\n public:\\n  vector&lt;int&gt; twoS...</td>\n",
       "      <td>8</td>\n",
       "      <td>347</td>\n",
       "      <td>0</td>\n",
       "      <td>1</td>\n",
       "      <td>4</td>\n",
       "      <td>2</td>\n",
       "      <td>43.375000</td>\n",
       "      <td>8</td>\n",
       "      <td>4.996250</td>\n",
       "    </tr>\n",
       "    <tr>\n",
       "      <th>1</th>\n",
       "      <td>1</td>\n",
       "      <td>class Solution {\\n public:\\n  ListNode* addTwo...</td>\n",
       "      <td>12</td>\n",
       "      <td>479</td>\n",
       "      <td>0</td>\n",
       "      <td>3</td>\n",
       "      <td>5</td>\n",
       "      <td>3</td>\n",
       "      <td>39.916667</td>\n",
       "      <td>2</td>\n",
       "      <td>5.727500</td>\n",
       "    </tr>\n",
       "    <tr>\n",
       "      <th>2</th>\n",
       "      <td>2</td>\n",
       "      <td>class Solution {\\n public:\\n  int lengthOfLong...</td>\n",
       "      <td>9</td>\n",
       "      <td>303</td>\n",
       "      <td>0</td>\n",
       "      <td>2</td>\n",
       "      <td>3</td>\n",
       "      <td>2</td>\n",
       "      <td>33.666667</td>\n",
       "      <td>6</td>\n",
       "      <td>6.070000</td>\n",
       "    </tr>\n",
       "    <tr>\n",
       "      <th>3</th>\n",
       "      <td>3</td>\n",
       "      <td>class Solution {\\n public:\\n  double findMedia...</td>\n",
       "      <td>16</td>\n",
       "      <td>1046</td>\n",
       "      <td>0</td>\n",
       "      <td>4</td>\n",
       "      <td>3</td>\n",
       "      <td>4</td>\n",
       "      <td>65.375000</td>\n",
       "      <td>22</td>\n",
       "      <td>1.496250</td>\n",
       "    </tr>\n",
       "    <tr>\n",
       "      <th>4</th>\n",
       "      <td>4</td>\n",
       "      <td>class Solution {\\n public:\\n  string longestPa...</td>\n",
       "      <td>14</td>\n",
       "      <td>916</td>\n",
       "      <td>3</td>\n",
       "      <td>4</td>\n",
       "      <td>9</td>\n",
       "      <td>7</td>\n",
       "      <td>65.428571</td>\n",
       "      <td>14</td>\n",
       "      <td>2.051429</td>\n",
       "    </tr>\n",
       "  </tbody>\n",
       "</table>\n",
       "</div>"
      ],
      "text/plain": [
       "   Unnamed: 0                                             Answer  \\\n",
       "0           0  class Solution {\\n public:\\n  vector<int> twoS...   \n",
       "1           1  class Solution {\\n public:\\n  ListNode* addTwo...   \n",
       "2           2  class Solution {\\n public:\\n  int lengthOfLong...   \n",
       "3           3  class Solution {\\n public:\\n  double findMedia...   \n",
       "4           4  class Solution {\\n public:\\n  string longestPa...   \n",
       "\n",
       "   num_of_lines  code_length  comments  cyclomatic_complexity  num_of_indents  \\\n",
       "0             8          347         0                      1               4   \n",
       "1            12          479         0                      3               5   \n",
       "2             9          303         0                      2               3   \n",
       "3            16         1046         0                      4               3   \n",
       "4            14          916         3                      4               9   \n",
       "\n",
       "   loop_count  line_length  identifiers  readability  \n",
       "0           2    43.375000            8     4.996250  \n",
       "1           3    39.916667            2     5.727500  \n",
       "2           2    33.666667            6     6.070000  \n",
       "3           4    65.375000           22     1.496250  \n",
       "4           7    65.428571           14     2.051429  "
      ]
     },
     "execution_count": 94,
     "metadata": {},
     "output_type": "execute_result"
    }
   ],
   "source": [
    "data = pd.read_csv('data_cpp.csv')\n",
    "data.head()"
   ]
  },
  {
   "cell_type": "code",
   "execution_count": 95,
   "metadata": {},
   "outputs": [],
   "source": [
    "import re\n",
    "prompt = \"{ Please fill in this function }\"\n",
    "\n",
    "def emptyOneFunctionBody(code, firstBrace):\n",
    "    # Find corresponding }\n",
    "    numBraces = 1\n",
    "    i = firstBrace + 1\n",
    "\n",
    "    # print(\"------------------------------------------\\n Code before Mod:\\n\" + code)\n",
    "    # print(i)\n",
    "    # print(\"Character found prior to firstBrace: $\" + code[i-1] +  code[i] + code[i+1] + \"$\")\n",
    "\n",
    "    while i < len(code) and numBraces > 0:\n",
    "        if code[i] == '{':\n",
    "            numBraces += 1\n",
    "        elif code[i] == '}':\n",
    "            numBraces -= 1\n",
    "        i += 1\n",
    "    \n",
    "    # print(\"Character found after lastBrace: $\" + code[i-1] +  code[i]+ \"$\\n------------------------------------------\\n\")\n",
    "    return code[:firstBrace] + prompt + code[i:], firstBrace + len(prompt)\n",
    "    \n",
    "\n",
    "def emptyAllFunctionBodies(code, start):\n",
    "    # Find first { after first )\n",
    "    start = max(code.find(')'), start)\n",
    "    if start < 0:\n",
    "        return code\n",
    "    else:\n",
    "        openBraceLocation = code.find('{', start)\n",
    "        if openBraceLocation == -1:\n",
    "            return code\n",
    "        else:\n",
    "            newCode, newStart = emptyOneFunctionBody(code, openBraceLocation)\n",
    "            return emptyAllFunctionBodies(newCode, newStart)\n",
    "    "
   ]
  },
  {
   "cell_type": "code",
   "execution_count": 96,
   "metadata": {},
   "outputs": [
    {
     "name": "stdout",
     "output_type": "stream",
     "text": [
      "<class 'str'>\n",
      "class Solution {\n",
      " public:\n",
      "  vector<vector<string>> solveNQueens(int n) {\n",
      "    vector<vector<string>> ans;\n",
      "    dfs(n, 0, vector<bool>(n), vector<bool>(2 * n - 1), vector<bool>(2 * n - 1),\n",
      "        vector<string>(n, string(n, '.')), ans);\n",
      "    return ans;\n",
      "  }\n",
      "\n",
      " private:\n",
      "  void dfs(int n, int i, vector<bool>&& cols, vector<bool>&& diag1,\n",
      "           vector<bool>&& diag2, vector<string>&& board,\n",
      "           vector<vector<string>>& ans) {\n",
      "    if (i == n) {\n",
      "      ans.push_back(board);\n",
      "      return;\n",
      "    }\n",
      "\n",
      "    for (int j = 0; j < n; ++j) {\n",
      "      if (cols[j] || diag1[i + j] || diag2[j - i + n - 1])\n",
      "        continue;\n",
      "      board[i][j] = 'Q';\n",
      "      cols[j] = diag1[i + j] = diag2[j - i + n - 1] = true;\n",
      "      dfs(n, i + 1, move(cols), move(diag1), move(diag2), move(board), ans);\n",
      "      cols[j] = diag1[i + j] = diag2[j - i + n - 1] = false;\n",
      "      board[i][j] = '.';\n",
      "    }\n",
      "  }\n",
      "};\n",
      "\n",
      "class Solution {\n",
      " public:\n",
      "  vector<vector<string>> solveNQueens(int n) { Please fill in this function }\n",
      "\n",
      " private:\n",
      "  void dfs(int n, int i, vector<bool>&& cols, vector<bool>&& diag1,\n",
      "           vector<bool>&& diag2, vector<string>&& board,\n",
      "           vector<vector<string>>& ans) { Please fill in this function }\n",
      "};\n"
     ]
    }
   ],
   "source": [
    "# Test function on one coding sample\n",
    "code_sample = data['Answer'][50]\n",
    "print(type(code_sample))\n",
    "print(code_sample + \"\\n\")\n",
    "code_sample = emptyAllFunctionBodies(code_sample, 0)\n",
    "print(code_sample)"
   ]
  },
  {
   "cell_type": "code",
   "execution_count": 97,
   "metadata": {},
   "outputs": [
    {
     "name": "stdout",
     "output_type": "stream",
     "text": [
      "class Solution {\n",
      " public:\n",
      "  vector<int> twoSum(vector<int>& nums, int target) {\n",
      "    unordered_map<int, int> numToIndex;\n",
      "\n",
      "    for (int i = 0; i < nums.size(); ++i) {\n",
      "      if (const auto it = numToIndex.find(target - nums[i]);\n",
      "          it != cend(numToIndex))\n",
      "        return {it->second, i};\n",
      "      numToIndex[nums[i]] = i;\n",
      "    }\n",
      "\n",
      "    throw;\n",
      "  }\n",
      "};\n",
      "-------------------------------------------------\n",
      "class Solution {\n",
      " public:\n",
      "  vector<int> twoSum(vector<int>& nums, int target) { Please fill in this function }\n",
      "};\n"
     ]
    }
   ],
   "source": [
    "# Duplicate the column Answer\n",
    "data['Answer_empty'] = data['Answer']\n",
    "\n",
    "for i in range(17):\n",
    "    data.loc[i, 'Answer_empty'] = emptyAllFunctionBodies(data.loc[i, 'Answer'], 0)\n",
    "\n",
    "print(data['Answer'][0])\n",
    "print(\"-------------------------------------------------\")\n",
    "print(data['Answer_empty'][0])\n",
    "\n",
    "\n"
   ]
  },
  {
   "cell_type": "markdown",
   "metadata": {},
   "source": [
    "## 2. Take the emptied code and ask an LLM to fill in the code"
   ]
  },
  {
   "cell_type": "markdown",
   "metadata": {},
   "source": [
    "## 2.a Run data generation (DONT DO THIS EVERY TIME RUN IT ONCE THEN STORE IT.)"
   ]
  },
  {
   "cell_type": "code",
   "execution_count": 98,
   "metadata": {},
   "outputs": [
    {
     "ename": "ImportError",
     "evalue": "cannot import name 'genai' from 'google' (unknown location)",
     "output_type": "error",
     "traceback": [
      "\u001b[31m---------------------------------------------------------------------------\u001b[39m",
      "\u001b[31mImportError\u001b[39m                               Traceback (most recent call last)",
      "\u001b[36mCell\u001b[39m\u001b[36m \u001b[39m\u001b[32mIn[98]\u001b[39m\u001b[32m, line 1\u001b[39m\n\u001b[32m----> \u001b[39m\u001b[32m1\u001b[39m \u001b[38;5;28;01mfrom\u001b[39;00m\u001b[38;5;250m \u001b[39m\u001b[34;01mgoogle\u001b[39;00m\u001b[38;5;250m \u001b[39m\u001b[38;5;28;01mimport\u001b[39;00m genai\n\u001b[32m      2\u001b[39m \u001b[38;5;28;01mimport\u001b[39;00m\u001b[38;5;250m \u001b[39m\u001b[34;01mtime\u001b[39;00m\n\u001b[32m      4\u001b[39m ai_values = [\u001b[32m0\u001b[39m \u001b[38;5;28;01mfor\u001b[39;00m i \u001b[38;5;129;01min\u001b[39;00m \u001b[38;5;28mrange\u001b[39m(\u001b[38;5;28mlen\u001b[39m(data[\u001b[33m'\u001b[39m\u001b[33mAnswer_empty\u001b[39m\u001b[33m'\u001b[39m]))]\n",
      "\u001b[31mImportError\u001b[39m: cannot import name 'genai' from 'google' (unknown location)"
     ]
    }
   ],
   "source": [
    "from google import genai\n",
    "import time\n",
    "\n",
    "ai_values = [0 for i in range(len(data['Answer_empty']))]\n",
    "data['ai_generated'] = ai_values\n",
    "\n",
    "data.to_csv('data_cpp_human.csv', index=False)\n",
    "\n",
    "# create a dummy dataframe to store the AI generated code until we concatenate w/ original dataframe\n",
    "ai_data = pd.DataFrame(columns = data.columns)\n",
    "\n",
    "# USE YOUR OWN API TOKEN/KEY HERE for API access, we're using Gemini 2.0 Flash model\n",
    "client = genai.Client(api_key=\"PUT_API_TOKEN_HERE\")\n",
    "\n",
    "# This is the number of requests you can make per minute, adjust as needed\n",
    "requests_per_minute = 15\n",
    "\n",
    "## Loop through the data and generate AI code wherever it says \"Please fill in this function\".\n",
    "for i,code in enumerate(data['Answer_empty']):\n",
    "    request = client.models.generate_content(\n",
    "        model=\"gemini-2.0-flash\", contents=\"In the following code snippet, give the C++ implementation where it says \\\"Please fill in this function\\\" in the appropriate C++ implementation. Do not generate additional text.\\n\" + data['Answer_empty'][0],\n",
    "    )\n",
    "    ## check if it included markdown syntax\n",
    "    generated_code = request.text\n",
    "    if \"```cpp\" in generated_code:\n",
    "        generated_code = generated_code.split(\"```cpp\")[1].split(\"```\")[0]\n",
    "\n",
    "    response = code.replace(\"Please fill in this function\", generated_code)\n",
    "    \n",
    "    ## Calculate the number of lines, code length, comments, num of indents, loop count, avg line length, identifiers, readability\n",
    "    num_of_lines = len(response.split(\"\\n\"))\n",
    "    code_length = len(response)\n",
    "    comments = len(re.findall(r'//', response)) + (len(re.findall(r'/\\*', response)) + len(re.findall(r'\\*/', response))) // 2\n",
    "    num_indents = len(re.findall(r'\\t', response)) + len(re.findall(r'    ', response))\n",
    "    loop_count = len(re.findall(r'for', response)) + len(re.findall(r'while', response))\n",
    "    avg_line_length = code_length / num_of_lines\n",
    "    identifiers = len(re.findall(r'\\b\\w+\\b', response)) / num_of_lines\n",
    "    readability = 0.39 * avg_line_length + 0.1 * num_indents + 0.15 * comments + 0.2 * loop_count + 0.16 * identifiers\n",
    "    \n",
    "    ## put the data in a new row, and append it to the dummy dataframe\n",
    "    new_row = [i, response, num_of_lines,  code_length,  comments, 0, num_indents,  loop_count,  avg_line_length,  identifiers, readability, None, 1]\n",
    "    ai_data = pd.concat([ai_data, pd.DataFrame([new_row], columns=ai_data.columns)], ignore_index=True)\n",
    "    time.sleep(60 / requests_per_minute * 1.1)\n",
    "\n",
    "ai_data.to_csv('data_cpp_ai.csv', index=False)"
   ]
  },
  {
   "cell_type": "markdown",
   "metadata": {},
   "source": [
    "## 2.b After you have generated AI code data, read it and merge with human sample data."
   ]
  },
  {
   "cell_type": "code",
   "execution_count": null,
   "metadata": {},
   "outputs": [],
   "source": [
    "## Try to read the data from the csv file, if it exists\n",
    "try:\n",
    "    data_ai = pd.read_csv('data_cpp_ai.csv')\n",
    "    data_human = pd.read_csv('data_cpp.csv')\n",
    "except:\n",
    "    print(\"One or more data files not found. Please make sure the data file is in the same directory as this script. or run the data generation script first.\")\n",
    "    ## create a new column to store the AI generated code, initialize existing code as human generated\n",
    "## initialize the \n",
    "data_human['ai_generated'] = 0\n",
    "\n",
    "data_human.to_csv('data_cpp_human.csv', index=False)\n",
    "\n",
    "## drop weird indexing column and intermediate column for empty function headers\n",
    "data_ai.drop(columns=['Unnamed: 0', \"Answer_empty\"], inplace=True)\n",
    "## drop weird indexing column\n",
    "data_human.drop(columns=['Unnamed: 0'], inplace=True)\n",
    "\n",
    "data_combined = pd.concat([data_human, data_ai], ignore_index=True)\n",
    "\n",
    "## saved the combined data to a file so we don't have to redo this entire process again\n",
    "data_combined.to_csv('data_cpp_combined.csv', index=False)"
   ]
  },
  {
   "cell_type": "markdown",
   "metadata": {},
   "source": [
    "## 3. Use a large codebase repository to train a Doc2Vec model to be used in converting programming language code into a vector embedding for the model\n",
    "\n",
    "In order to avoid the issue of giving the model code with sections/ngrams that it hasn't seen before, you would want to train it on a sufficiently large corpus of potential text to capture data beyond your dataset.\n",
    "In our case, "
   ]
  },
  {
   "cell_type": "code",
   "execution_count": null,
   "metadata": {},
   "outputs": [],
   "source": [
    "import gensim\n",
    "\n",
    "# Create corpus from code samples\n",
    "documents = data_combined['Answer']\n"
   ]
  },
  {
   "cell_type": "markdown",
   "metadata": {},
   "source": [
    "## 4. Encode code samples into vector embeddings and construct the data table to be passed to the model.\n",
    "\n",
    "Alternative idea, use the new Google Gemini API based embedding!"
   ]
  },
  {
   "cell_type": "markdown",
   "metadata": {},
   "source": [
    "## 5. Tokenize all code (Word2Vec) and create features for our ML model to use"
   ]
  },
  {
   "cell_type": "markdown",
   "metadata": {},
   "source": [
    "## 6. Run ML models (ex: Random Forest (RF), XGBoost, and Support Vector Machine (SVM) ) (Muntaka)"
   ]
  },
  {
   "cell_type": "code",
   "execution_count": 141,
   "metadata": {},
   "outputs": [],
   "source": [
    "from sklearn.preprocessing import StandardScaler\n",
    "from sklearn.metrics import accuracy_score, confusion_matrix, classification_report\n",
    "from sklearn.svm import SVC\n",
    "import xgboost as xgb\n",
    "import seaborn as sns\n",
    "import matplotlib.pyplot as plt\n",
    "from sklearn.svm import SVC\n",
    "from sklearn.model_selection import GridSearchCV"
   ]
  },
  {
   "cell_type": "code",
   "execution_count": 133,
   "metadata": {},
   "outputs": [],
   "source": [
    "df = pd.DataFrame(data_combined)\n",
    "# print(df.head(5))"
   ]
  },
  {
   "cell_type": "code",
   "execution_count": 134,
   "metadata": {},
   "outputs": [
    {
     "name": "stdout",
     "output_type": "stream",
     "text": [
      "1504\n"
     ]
    }
   ],
   "source": [
    "num_rows = df[df['ai_generated'] == 1].shape[0]\n",
    "print(num_rows)"
   ]
  },
  {
   "cell_type": "code",
   "execution_count": 135,
   "metadata": {},
   "outputs": [
    {
     "data": {
      "image/png": "[encoded data removed]",
      "text/plain": [
       "<Figure size 640x480 with 2 Axes>"
      ]
     },
     "metadata": {},
     "output_type": "display_data"
    }
   ],
   "source": [
    "corr_matrix = df.select_dtypes(include=['number']).corr()\n",
    "sns.heatmap(corr_matrix, annot=True, cmap=\"coolwarm\")\n",
    "plt.show()"
   ]
  },
  {
   "cell_type": "code",
   "execution_count": 136,
   "metadata": {},
   "outputs": [],
   "source": [
    "# Shuffle the dataset\n",
    "df = df.sample(frac=1, random_state=42).reset_index(drop=True)\n",
    "\n",
    "# X = df.drop(columns=['ai_generated'])\n",
    "X = df.drop(columns=['ai_generated', 'readability', 'line_length'])\n",
    "y = df['ai_generated']\n",
    "\n",
    "# Handle categorical columns (if any exist)\n",
    "if X.select_dtypes(include=['object']).shape[1] > 0:\n",
    "    X = pd.get_dummies(X, drop_first=True)  # One-hot encoding for categorical features\n",
    "\n",
    "X_train, X_test, y_train, y_test = train_test_split(X, y, test_size=0.3, random_state=42, shuffle=True)\n",
    "X_train, X_val, y_train, y_val = train_test_split(X_train, y_train, test_size=0.2, random_state=42, shuffle=True)\n",
    "\n",
    "scaler = StandardScaler()\n",
    "X_train_scaled = scaler.fit_transform(X_train)\n",
    "X_val_scaled = scaler.transform(X_val)\n",
    "X_test_scaled = scaler.transform(X_test)"
   ]
  },
  {
   "cell_type": "markdown",
   "metadata": {},
   "source": [
    "#### Random Forest Classifier"
   ]
  },
  {
   "cell_type": "code",
   "execution_count": 137,
   "metadata": {},
   "outputs": [
    {
     "name": "stdout",
     "output_type": "stream",
     "text": [
      "Random Forest Validation Accuracy: 0.99\n",
      "Random Forest Test Accuracy: 1.00\n"
     ]
    }
   ],
   "source": [
    "rf_model = RandomForestClassifier(n_estimators=100, random_state=42)\n",
    "rf_model.fit(X_train_scaled, y_train)\n",
    "\n",
    "val_preds = rf_model.predict(X_val_scaled) \n",
    "test_preds = rf_model.predict(X_test_scaled)  \n",
    "\n",
    "val_acc = accuracy_score(y_val, val_preds)\n",
    "test_acc = accuracy_score(y_test, test_preds)\n",
    "\n",
    "print(f\"Random Forest Validation Accuracy: {val_acc:.2f}\")\n",
    "print(f\"Random Forest Test Accuracy: {test_acc:.2f}\")"
   ]
  },
  {
   "cell_type": "markdown",
   "metadata": {},
   "source": [
    "#### XGBoost Classifier"
   ]
  },
  {
   "cell_type": "code",
   "execution_count": 138,
   "metadata": {},
   "outputs": [
    {
     "name": "stdout",
     "output_type": "stream",
     "text": [
      "Fitting 5 folds for each of 144 candidates, totalling 720 fits\n"
     ]
    },
    {
     "name": "stderr",
     "output_type": "stream",
     "text": [
      "/Users/ibnathism/Documents/Winter25/AI/AI-Project/CS205AIGeneratedCode/venv/lib/python3.13/site-packages/joblib/externals/loky/process_executor.py:752: UserWarning: A worker stopped while some jobs were given to the executor. This can be caused by a too short worker timeout or by a memory leak.\n",
      "  warnings.warn(\n"
     ]
    },
    {
     "name": "stdout",
     "output_type": "stream",
     "text": [
      "Best Parameters: {'eta': 0.07, 'eval_metric': 'logloss', 'max_depth': 3, 'min_child_weight': 2, 'n_estimators': 200, 'objective': 'binary:logistic'}\n",
      "XGBoost Validation Accuracy: 1.00\n",
      "Confusion Matrix (Validation Set):\n",
      "[[199   0]\n",
      " [  2 220]]\n",
      "XGBoost Test Accuracy: 1.00\n"
     ]
    }
   ],
   "source": [
    "param_grid = {\n",
    "    'eta': [0.01, 0.05, 0.07, 0.1],\n",
    "    'max_depth': [1, 3, 5, 7],\n",
    "    'min_child_weight': [1, 2, 5],\n",
    "    'n_estimators': [50, 100, 200],\n",
    "    'objective': ['binary:logistic'],\n",
    "    'eval_metric': ['logloss']\n",
    "}\n",
    "xgb_model = xgb.XGBClassifier()\n",
    "\n",
    "grid_search = GridSearchCV(\n",
    "    estimator=xgb_model,\n",
    "    param_grid=param_grid,\n",
    "    scoring='accuracy',\n",
    "    cv=5,  # 5-fold Cross Validation\n",
    "    verbose=1,\n",
    "    n_jobs=-1\n",
    ")\n",
    "\n",
    "grid_search.fit(X_train_scaled, y_train)\n",
    "\n",
    "best_params = grid_search.best_params_\n",
    "print(f\"Best Parameters: {best_params}\")\n",
    "\n",
    "# best_xgb = xgb.XGBClassifier(**best_params)\n",
    "best_xgb = xgb.XGBClassifier(\n",
    "    **best_params,\n",
    "    gamma=0.3,  # Add regularization\n",
    "    subsample=0.8,  # Use only 80% of training data per tree\n",
    "    colsample_bytree=0.8  # Use 80% of features per tree\n",
    ")\n",
    "best_xgb.fit(X_train_scaled, y_train)\n",
    "\n",
    "val_preds = best_xgb.predict(X_val_scaled)\n",
    "val_acc = accuracy_score(y_val, val_preds)\n",
    "print(f\"XGBoost Validation Accuracy: {val_acc:.2f}\")\n",
    "\n",
    "conf_matrix = confusion_matrix(y_val, val_preds)\n",
    "print(\"Confusion Matrix (Validation Set):\")\n",
    "print(conf_matrix)\n",
    "\n",
    "test_preds = best_xgb.predict(X_test_scaled)\n",
    "test_acc = accuracy_score(y_test, test_preds)\n",
    "print(f\"XGBoost Test Accuracy: {test_acc:.2f}\")"
   ]
  },
  {
   "cell_type": "markdown",
   "metadata": {},
   "source": [
    "#### Support vector machine(SVM)"
   ]
  },
  {
   "cell_type": "code",
   "execution_count": 139,
   "metadata": {},
   "outputs": [
    {
     "name": "stdout",
     "output_type": "stream",
     "text": [
      "SVM Accuracy (Default): 0.50\n",
      "Fitting 5 folds for each of 20 candidates, totalling 100 fits\n"
     ]
    },
    {
     "name": "stderr",
     "output_type": "stream",
     "text": [
      "/Users/ibnathism/Documents/Winter25/AI/AI-Project/CS205AIGeneratedCode/venv/lib/python3.13/site-packages/joblib/externals/loky/process_executor.py:752: UserWarning: A worker stopped while some jobs were given to the executor. This can be caused by a too short worker timeout or by a memory leak.\n",
      "  warnings.warn(\n"
     ]
    },
    {
     "name": "stdout",
     "output_type": "stream",
     "text": [
      "Best Parameters for SVM: {'C': 100, 'gamma': 'scale', 'kernel': 'rbf'}\n",
      "SVM Test Accuracy (Best Model): 0.90\n",
      "Confusion Matrix (SVM Test Set):\n",
      "[[426  42]\n",
      " [ 48 387]]\n"
     ]
    }
   ],
   "source": [
    "svm_model = SVC(kernel='rbf', random_state=42)\n",
    "svm_model.fit(X_train_scaled, y_train)\n",
    "\n",
    "svm_preds = svm_model.predict(X_test_scaled)\n",
    "svm_acc = accuracy_score(y_test, svm_preds)\n",
    "print(f\"SVM Accuracy (Default): {svm_acc:.2f}\")\n",
    "\n",
    "# Hyperparameter Tuning with GridSearchCV (Regularization parameter 'C' and Kernel coefficient 'gamma')\n",
    "param_grid = {\n",
    "    'C': [0.1, 1, 10, 100],  \n",
    "    'gamma': ['scale', 'auto', 0.01, 0.1, 1],  \n",
    "    'kernel': ['rbf']\n",
    "}\n",
    "\n",
    "grid_search = GridSearchCV(\n",
    "    estimator=SVC(random_state=42),\n",
    "    param_grid=param_grid,\n",
    "    scoring='accuracy',\n",
    "    cv=5,  # 5-fold Cross Validation\n",
    "    verbose=1,\n",
    "    n_jobs=-1\n",
    ")\n",
    "\n",
    "grid_search.fit(X_train_scaled, y_train)\n",
    "best_params = grid_search.best_params_\n",
    "print(f\"Best Parameters for SVM: {best_params}\")\n",
    "\n",
    "best_svm = SVC(**best_params, random_state=42)\n",
    "best_svm.fit(X_train_scaled, y_train)\n",
    "test_preds_svm = best_svm.predict(X_test_scaled)\n",
    "test_acc_svm = accuracy_score(y_test, test_preds_svm)\n",
    "print(f\"SVM Test Accuracy (Best Model): {test_acc_svm:.2f}\")\n",
    "\n",
    "conf_matrix_svm = confusion_matrix(y_test, test_preds_svm)\n",
    "print(\"Confusion Matrix (SVM Test Set):\")\n",
    "print(conf_matrix_svm)\n"
   ]
  },
  {
   "cell_type": "markdown",
   "metadata": {},
   "source": [
    "## 7. Gather precision, recall, accuracy, and f1-score for each model (Muntaka)"
   ]
  },
  {
   "cell_type": "code",
   "execution_count": 142,
   "metadata": {},
   "outputs": [
    {
     "name": "stdout",
     "output_type": "stream",
     "text": [
      "XGBoost Model Evaluation:\n",
      "Accuracy: 0.9989\n",
      "              precision    recall  f1-score   support\n",
      "\n",
      "           0     1.0000    0.9979    0.9989       468\n",
      "           1     0.9977    1.0000    0.9989       435\n",
      "\n",
      "    accuracy                         0.9989       903\n",
      "   macro avg     0.9989    0.9989    0.9989       903\n",
      "weighted avg     0.9989    0.9989    0.9989       903\n",
      "\n",
      "SVM Model Evaluation:\n",
      "Accuracy: 0.9003\n",
      "              precision    recall  f1-score   support\n",
      "\n",
      "           0     0.8987    0.9103    0.9045       468\n",
      "           1     0.9021    0.8897    0.8958       435\n",
      "\n",
      "    accuracy                         0.9003       903\n",
      "   macro avg     0.9004    0.9000    0.9001       903\n",
      "weighted avg     0.9004    0.9003    0.9003       903\n",
      "\n"
     ]
    }
   ],
   "source": [
    "# Evaluate XGBoost Model\n",
    "xgb_preds_test = best_xgb.predict(X_test_scaled)\n",
    "xgb_report = classification_report(y_test, xgb_preds_test, digits=4)\n",
    "xgb_acc = accuracy_score(y_test, xgb_preds_test)\n",
    "\n",
    "print(\"XGBoost Model Evaluation:\")\n",
    "print(f\"Accuracy: {xgb_acc:.4f}\")\n",
    "print(xgb_report)\n",
    "\n",
    "# Evaluate SVM Model\n",
    "svm_preds_test = best_svm.predict(X_test_scaled)\n",
    "svm_report = classification_report(y_test, svm_preds_test, digits=4)\n",
    "svm_acc = accuracy_score(y_test, svm_preds_test)\n",
    "\n",
    "print(\"SVM Model Evaluation:\")\n",
    "print(f\"Accuracy: {svm_acc:.4f}\")\n",
    "print(svm_report)\n"
   ]
  }
 ],
 "metadata": {
  "kernelspec": {
   "display_name": "venv",
   "language": "python",
   "name": "python3"
  },
  "language_info": {
   "codemirror_mode": {
    "name": "ipython",
    "version": 3
   },
   "file_extension": ".py",
   "mimetype": "text/x-python",
   "name": "python",
   "nbconvert_exporter": "python",
   "pygments_lexer": "ipython3",
   "version": "3.13.1"
  }
 },
 "nbformat": 4,
 "nbformat_minor": 2
}
